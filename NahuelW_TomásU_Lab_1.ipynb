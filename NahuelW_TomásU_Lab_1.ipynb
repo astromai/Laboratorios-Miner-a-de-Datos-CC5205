{
  "cells": [
    {
      "cell_type": "markdown",
      "metadata": {
        "id": "-CnSaU7yuHuo"
      },
      "source": [
        "# Laboratorio 1: Exploración y Visualización de Datos\n",
        "\n",
        "Integrantes: **AGREGUEN SUS NOMBRES COMPLETOS**\n"
      ]
    },
    {
      "cell_type": "markdown",
      "metadata": {
        "id": "DAB7Kb-fuwH4"
      },
      "source": [
        "## Instrucciones\n",
        "\n",
        "1.  Trabajen en equipos de dos personas. Salvo excepciones, no se corregirá entregas con menos de dos integrantes.\n",
        "\n",
        "2.  Modifique este archivo `.ipynb` agregando sus respuestas donde corresponda.\n",
        "\n",
        "3.  Para cada pregunta **incluya el código fuente que utilizó para llegar a su respuesta. Respuestas sin código no recibirán puntaje.**.\n",
        "\n",
        "4.  El formato de entrega para esta actividad es un archivo **html**. **Genere un archivo HTML usando Jupyter** y súbalo a U-Cursos. Basta con que un/a integrante haga la entrega. Si ambos/as hacen una entrega en U-Cursos, se revisará cualquiera de éstas.\n",
        "\n",
        "\n",
        "#### **Se recomienda fuertemente que no usen ChatGPT para resolver la actividad, ya que la experiencia de aprendizaje es mucho mayor si lo hacen por su cuenta.**"
      ]
    },
    {
      "cell_type": "markdown",
      "metadata": {
        "id": "nyO8FDUqPYEF"
      },
      "source": [
        "## Pongamonos en situación"
      ]
    },
    {
      "cell_type": "markdown",
      "metadata": {
        "id": "zm7XGdfrPYEH"
      },
      "source": [
        "Eres un **cientifico de datos** que trabaja en **Netflix**.\n",
        "\n",
        "En los últimos años ha **crecido la cantidad usuarios que ven anime** en la plataforma, por lo que el equipo de contenido de Netflix ha decidido invertir en la producción de series de anime.\n",
        "\n",
        "Tu jefe te ha pedido que **realices un análisis de los datos de las series de anime** para entender mejor el mercado y poder tomar decisiones informadas."
      ]
    },
    {
      "cell_type": "markdown",
      "metadata": {
        "id": "Q9ssMcp0PYEI"
      },
      "source": [
        "## Datos"
      ]
    },
    {
      "cell_type": "markdown",
      "metadata": {
        "id": "aOoASC9ywZ3D"
      },
      "source": [
        "Para realizar esta tarea, te han entregado un dataset con información de animes de la página **MyAnimeList** (MAL).\n",
        "\n",
        "FUENTE: https://www.kaggle.com/datasets/azathoth42/myanimelist\n",
        "\n",
        "Tenemos 2 archivos:\n",
        "- `anime.csv`: Contiene 6 atributos: \"title\", \"type\", \"source\", \"episodes\", \"airing\" y \"studio\", que corresponden a información sobre el anime.\n",
        "- `anime-stats.csv`: Contiene 4 atributos: \"title\", \"score\", \"members\" (número de usuarios que tienen el anime en su lista) y \"favorites\", que corresponden a estadísticas sobre la popularidad de cada anime."
      ]
    },
    {
      "cell_type": "code",
      "execution_count": 1,
      "metadata": {
        "id": "xyQGRN44ws0n"
      },
      "outputs": [],
      "source": [
        "import pandas as pd\n",
        "import matplotlib.pyplot as plt"
      ]
    },
    {
      "cell_type": "markdown",
      "metadata": {
        "id": "LAurvYuGPYEO"
      },
      "source": [
        "Para que la siguiente celda funcione, los archivos CSV deben estar en la misma carpeta que este notebook."
      ]
    },
    {
      "cell_type": "code",
      "execution_count": null,
      "metadata": {
        "colab": {
          "base_uri": "https://localhost:8080/",
          "height": 304
        },
        "id": "ltDQGTy2wnpL",
        "outputId": "8dd7c487-b29b-4f29-b4bb-77ce1d6f8a80"
      },
      "outputs": [],
      "source": [
        "df_anime = pd.read_csv('anime.csv', encoding=\"UTF-8\")\n",
        "df_stats = pd.read_csv('anime-stats.csv', encoding=\"UTF-8\")"
      ]
    },
    {
      "cell_type": "markdown",
      "metadata": {
        "id": "b8jdCwYhwyOV"
      },
      "source": [
        "También puedes cargarlos remotamente de un repositorio usando el link a los archivos:\n"
      ]
    },
    {
      "cell_type": "code",
      "execution_count": 2,
      "metadata": {
        "id": "2_8H7ZEJwx7O"
      },
      "outputs": [],
      "source": [
        "df_anime = pd.read_csv('https://raw.githubusercontent.com/bacchus00/cositas/main/anime.csv', encoding=\"UTF-8\")\n",
        "df_stats = pd.read_csv('https://raw.githubusercontent.com/bacchus00/cositas/main/anime-stats.csv', encoding=\"UTF-8\")"
      ]
    },
    {
      "cell_type": "markdown",
      "metadata": {
        "id": "0wVQrAf3PYES"
      },
      "source": [
        "Cualquiera de estas 2 formas es válida para cargar los datos."
      ]
    },
    {
      "cell_type": "markdown",
      "metadata": {
        "id": "uHNVPuI4xN1W"
      },
      "source": [
        "## Exploración básica\n"
      ]
    },
    {
      "cell_type": "markdown",
      "metadata": {
        "id": "H-BY_Nl1PYEU"
      },
      "source": [
        "Para hacernos una idea de como se ven los datos, lo más usual es mostrar los primeros registros de cada dataset."
      ]
    },
    {
      "cell_type": "markdown",
      "metadata": {
        "id": "N031NwOSPYEU"
      },
      "source": [
        "1. Muestre los primeros 5 registros de cada dataset."
      ]
    },
    {
      "cell_type": "code",
      "execution_count": 6,
      "metadata": {
        "id": "isqkpRT7PYEU"
      },
      "outputs": [
        {
          "data": {
            "text/html": [
              "<div>\n",
              "<style scoped>\n",
              "    .dataframe tbody tr th:only-of-type {\n",
              "        vertical-align: middle;\n",
              "    }\n",
              "\n",
              "    .dataframe tbody tr th {\n",
              "        vertical-align: top;\n",
              "    }\n",
              "\n",
              "    .dataframe thead th {\n",
              "        text-align: right;\n",
              "    }\n",
              "</style>\n",
              "<table border=\"1\" class=\"dataframe\">\n",
              "  <thead>\n",
              "    <tr style=\"text-align: right;\">\n",
              "      <th></th>\n",
              "      <th>title</th>\n",
              "      <th>type</th>\n",
              "      <th>source</th>\n",
              "      <th>episodes</th>\n",
              "      <th>airing</th>\n",
              "      <th>studio</th>\n",
              "    </tr>\n",
              "  </thead>\n",
              "  <tbody>\n",
              "    <tr>\n",
              "      <th>0</th>\n",
              "      <td>Inu x Boku SS</td>\n",
              "      <td>TV</td>\n",
              "      <td>Manga</td>\n",
              "      <td>12</td>\n",
              "      <td>False</td>\n",
              "      <td>David Production</td>\n",
              "    </tr>\n",
              "    <tr>\n",
              "      <th>1</th>\n",
              "      <td>Seto no Hanayome</td>\n",
              "      <td>TV</td>\n",
              "      <td>Manga</td>\n",
              "      <td>26</td>\n",
              "      <td>False</td>\n",
              "      <td>Gonzo</td>\n",
              "    </tr>\n",
              "    <tr>\n",
              "      <th>2</th>\n",
              "      <td>Shugo Chara!! Doki</td>\n",
              "      <td>TV</td>\n",
              "      <td>Manga</td>\n",
              "      <td>51</td>\n",
              "      <td>False</td>\n",
              "      <td>Satelight</td>\n",
              "    </tr>\n",
              "    <tr>\n",
              "      <th>3</th>\n",
              "      <td>Princess Tutu</td>\n",
              "      <td>TV</td>\n",
              "      <td>Original</td>\n",
              "      <td>38</td>\n",
              "      <td>False</td>\n",
              "      <td>Hal Film Maker</td>\n",
              "    </tr>\n",
              "    <tr>\n",
              "      <th>4</th>\n",
              "      <td>Bakuman. 3rd Season</td>\n",
              "      <td>TV</td>\n",
              "      <td>Manga</td>\n",
              "      <td>25</td>\n",
              "      <td>False</td>\n",
              "      <td>J.C.Staff</td>\n",
              "    </tr>\n",
              "  </tbody>\n",
              "</table>\n",
              "</div>"
            ],
            "text/plain": [
              "                 title type    source  episodes  airing            studio\n",
              "0        Inu x Boku SS   TV     Manga        12   False  David Production\n",
              "1     Seto no Hanayome   TV     Manga        26   False             Gonzo\n",
              "2   Shugo Chara!! Doki   TV     Manga        51   False         Satelight\n",
              "3        Princess Tutu   TV  Original        38   False    Hal Film Maker\n",
              "4  Bakuman. 3rd Season   TV     Manga        25   False         J.C.Staff"
            ]
          },
          "execution_count": 6,
          "metadata": {},
          "output_type": "execute_result"
        }
      ],
      "source": [
        "df_anime.head(5)"
      ]
    },
    {
      "cell_type": "code",
      "execution_count": 7,
      "metadata": {
        "id": "G0N9XBRKPYEV"
      },
      "outputs": [
        {
          "data": {
            "text/html": [
              "<div>\n",
              "<style scoped>\n",
              "    .dataframe tbody tr th:only-of-type {\n",
              "        vertical-align: middle;\n",
              "    }\n",
              "\n",
              "    .dataframe tbody tr th {\n",
              "        vertical-align: top;\n",
              "    }\n",
              "\n",
              "    .dataframe thead th {\n",
              "        text-align: right;\n",
              "    }\n",
              "</style>\n",
              "<table border=\"1\" class=\"dataframe\">\n",
              "  <thead>\n",
              "    <tr style=\"text-align: right;\">\n",
              "      <th></th>\n",
              "      <th>title</th>\n",
              "      <th>score</th>\n",
              "      <th>members</th>\n",
              "      <th>favorites</th>\n",
              "    </tr>\n",
              "  </thead>\n",
              "  <tbody>\n",
              "    <tr>\n",
              "      <th>0</th>\n",
              "      <td>Inu x Boku SS</td>\n",
              "      <td>7.63</td>\n",
              "      <td>283882</td>\n",
              "      <td>2809</td>\n",
              "    </tr>\n",
              "    <tr>\n",
              "      <th>1</th>\n",
              "      <td>Seto no Hanayome</td>\n",
              "      <td>7.89</td>\n",
              "      <td>204003</td>\n",
              "      <td>2579</td>\n",
              "    </tr>\n",
              "    <tr>\n",
              "      <th>2</th>\n",
              "      <td>Shugo Chara!! Doki</td>\n",
              "      <td>7.55</td>\n",
              "      <td>70127</td>\n",
              "      <td>802</td>\n",
              "    </tr>\n",
              "    <tr>\n",
              "      <th>3</th>\n",
              "      <td>Princess Tutu</td>\n",
              "      <td>8.21</td>\n",
              "      <td>93312</td>\n",
              "      <td>3344</td>\n",
              "    </tr>\n",
              "    <tr>\n",
              "      <th>4</th>\n",
              "      <td>Bakuman. 3rd Season</td>\n",
              "      <td>8.67</td>\n",
              "      <td>182765</td>\n",
              "      <td>2082</td>\n",
              "    </tr>\n",
              "  </tbody>\n",
              "</table>\n",
              "</div>"
            ],
            "text/plain": [
              "                 title  score  members  favorites\n",
              "0        Inu x Boku SS   7.63   283882       2809\n",
              "1     Seto no Hanayome   7.89   204003       2579\n",
              "2   Shugo Chara!! Doki   7.55    70127        802\n",
              "3        Princess Tutu   8.21    93312       3344\n",
              "4  Bakuman. 3rd Season   8.67   182765       2082"
            ]
          },
          "execution_count": 7,
          "metadata": {},
          "output_type": "execute_result"
        }
      ],
      "source": [
        "df_stats.head(5)"
      ]
    },
    {
      "cell_type": "markdown",
      "metadata": {
        "id": "xztKToKWPYEV"
      },
      "source": [
        "Siempre es útil conocer **cuántos datos y cuántas columnas** tenemos.\n",
        "\n",
        "Esto es importante para poder responder\n",
        "- ¿Tenemos suficientes datos?\n",
        "- ¿Tenemos suficientes columnas?\n",
        "- ¿Será muy caro computacionalmente trabajar con estos datos?"
      ]
    },
    {
      "cell_type": "markdown",
      "metadata": {
        "id": "jdf-XMHsPYEV"
      },
      "source": [
        "2. ¿Cuales son las dimensiones de cada dataset? en otras palabras, ¿cuántas filas y columnas tiene cada uno?"
      ]
    },
    {
      "cell_type": "code",
      "execution_count": null,
      "metadata": {
        "id": "gA3Uz40QPYEW"
      },
      "outputs": [
        {
          "data": {
            "text/plain": [
              "(14478, 6)"
            ]
          },
          "execution_count": 19,
          "metadata": {},
          "output_type": "execute_result"
        }
      ],
      "source": [
        "df_anime.shape\n",
        "\n",
        "# Existen \n",
        "# filas: 14478 \n",
        "# columnas: 6"
      ]
    },
    {
      "cell_type": "code",
      "execution_count": null,
      "metadata": {
        "id": "C2CzzD_vPYEW"
      },
      "outputs": [
        {
          "data": {
            "text/plain": [
              "(14478, 4)"
            ]
          },
          "execution_count": 20,
          "metadata": {},
          "output_type": "execute_result"
        }
      ],
      "source": [
        "df_stats.shape\n",
        "# Existen \n",
        "# filas: 14478 \n",
        "# columnas: 4"
      ]
    },
    {
      "cell_type": "markdown",
      "metadata": {
        "id": "YM8pZ6Q9PYEW"
      },
      "source": [
        "3. Además de ver algunos registros y las dimensiones, también es útil conocer algunas **estadísticas básicas** de los datos. Usa una función que nos permita **ver las estadísticas básicas** de **todas las columnas**."
      ]
    },
    {
      "cell_type": "code",
      "execution_count": 12,
      "metadata": {
        "id": "Mzimgm2KPYEX"
      },
      "outputs": [
        {
          "data": {
            "text/html": [
              "<div>\n",
              "<style scoped>\n",
              "    .dataframe tbody tr th:only-of-type {\n",
              "        vertical-align: middle;\n",
              "    }\n",
              "\n",
              "    .dataframe tbody tr th {\n",
              "        vertical-align: top;\n",
              "    }\n",
              "\n",
              "    .dataframe thead th {\n",
              "        text-align: right;\n",
              "    }\n",
              "</style>\n",
              "<table border=\"1\" class=\"dataframe\">\n",
              "  <thead>\n",
              "    <tr style=\"text-align: right;\">\n",
              "      <th></th>\n",
              "      <th>title</th>\n",
              "      <th>type</th>\n",
              "      <th>source</th>\n",
              "      <th>episodes</th>\n",
              "      <th>airing</th>\n",
              "      <th>studio</th>\n",
              "    </tr>\n",
              "  </thead>\n",
              "  <tbody>\n",
              "    <tr>\n",
              "      <th>count</th>\n",
              "      <td>14478</td>\n",
              "      <td>14478</td>\n",
              "      <td>14478</td>\n",
              "      <td>14478.000000</td>\n",
              "      <td>14478</td>\n",
              "      <td>8544</td>\n",
              "    </tr>\n",
              "    <tr>\n",
              "      <th>unique</th>\n",
              "      <td>14477</td>\n",
              "      <td>7</td>\n",
              "      <td>16</td>\n",
              "      <td>NaN</td>\n",
              "      <td>2</td>\n",
              "      <td>456</td>\n",
              "    </tr>\n",
              "    <tr>\n",
              "      <th>top</th>\n",
              "      <td>Hinamatsuri</td>\n",
              "      <td>TV</td>\n",
              "      <td>Unknown</td>\n",
              "      <td>NaN</td>\n",
              "      <td>False</td>\n",
              "      <td>Toei Animation</td>\n",
              "    </tr>\n",
              "    <tr>\n",
              "      <th>freq</th>\n",
              "      <td>2</td>\n",
              "      <td>4271</td>\n",
              "      <td>4210</td>\n",
              "      <td>NaN</td>\n",
              "      <td>14127</td>\n",
              "      <td>735</td>\n",
              "    </tr>\n",
              "    <tr>\n",
              "      <th>mean</th>\n",
              "      <td>NaN</td>\n",
              "      <td>NaN</td>\n",
              "      <td>NaN</td>\n",
              "      <td>11.308399</td>\n",
              "      <td>NaN</td>\n",
              "      <td>NaN</td>\n",
              "    </tr>\n",
              "    <tr>\n",
              "      <th>std</th>\n",
              "      <td>NaN</td>\n",
              "      <td>NaN</td>\n",
              "      <td>NaN</td>\n",
              "      <td>43.443451</td>\n",
              "      <td>NaN</td>\n",
              "      <td>NaN</td>\n",
              "    </tr>\n",
              "    <tr>\n",
              "      <th>min</th>\n",
              "      <td>NaN</td>\n",
              "      <td>NaN</td>\n",
              "      <td>NaN</td>\n",
              "      <td>0.000000</td>\n",
              "      <td>NaN</td>\n",
              "      <td>NaN</td>\n",
              "    </tr>\n",
              "    <tr>\n",
              "      <th>25%</th>\n",
              "      <td>NaN</td>\n",
              "      <td>NaN</td>\n",
              "      <td>NaN</td>\n",
              "      <td>1.000000</td>\n",
              "      <td>NaN</td>\n",
              "      <td>NaN</td>\n",
              "    </tr>\n",
              "    <tr>\n",
              "      <th>50%</th>\n",
              "      <td>NaN</td>\n",
              "      <td>NaN</td>\n",
              "      <td>NaN</td>\n",
              "      <td>1.000000</td>\n",
              "      <td>NaN</td>\n",
              "      <td>NaN</td>\n",
              "    </tr>\n",
              "    <tr>\n",
              "      <th>75%</th>\n",
              "      <td>NaN</td>\n",
              "      <td>NaN</td>\n",
              "      <td>NaN</td>\n",
              "      <td>12.000000</td>\n",
              "      <td>NaN</td>\n",
              "      <td>NaN</td>\n",
              "    </tr>\n",
              "    <tr>\n",
              "      <th>max</th>\n",
              "      <td>NaN</td>\n",
              "      <td>NaN</td>\n",
              "      <td>NaN</td>\n",
              "      <td>1818.000000</td>\n",
              "      <td>NaN</td>\n",
              "      <td>NaN</td>\n",
              "    </tr>\n",
              "  </tbody>\n",
              "</table>\n",
              "</div>"
            ],
            "text/plain": [
              "              title   type   source      episodes airing          studio\n",
              "count         14478  14478    14478  14478.000000  14478            8544\n",
              "unique        14477      7       16           NaN      2             456\n",
              "top     Hinamatsuri     TV  Unknown           NaN  False  Toei Animation\n",
              "freq              2   4271     4210           NaN  14127             735\n",
              "mean            NaN    NaN      NaN     11.308399    NaN             NaN\n",
              "std             NaN    NaN      NaN     43.443451    NaN             NaN\n",
              "min             NaN    NaN      NaN      0.000000    NaN             NaN\n",
              "25%             NaN    NaN      NaN      1.000000    NaN             NaN\n",
              "50%             NaN    NaN      NaN      1.000000    NaN             NaN\n",
              "75%             NaN    NaN      NaN     12.000000    NaN             NaN\n",
              "max             NaN    NaN      NaN   1818.000000    NaN             NaN"
            ]
          },
          "execution_count": 12,
          "metadata": {},
          "output_type": "execute_result"
        }
      ],
      "source": [
        "df_anime.describe(include='all')"
      ]
    },
    {
      "cell_type": "code",
      "execution_count": 13,
      "metadata": {
        "id": "c3ImsWnLPYEX"
      },
      "outputs": [
        {
          "data": {
            "text/html": [
              "<div>\n",
              "<style scoped>\n",
              "    .dataframe tbody tr th:only-of-type {\n",
              "        vertical-align: middle;\n",
              "    }\n",
              "\n",
              "    .dataframe tbody tr th {\n",
              "        vertical-align: top;\n",
              "    }\n",
              "\n",
              "    .dataframe thead th {\n",
              "        text-align: right;\n",
              "    }\n",
              "</style>\n",
              "<table border=\"1\" class=\"dataframe\">\n",
              "  <thead>\n",
              "    <tr style=\"text-align: right;\">\n",
              "      <th></th>\n",
              "      <th>title</th>\n",
              "      <th>score</th>\n",
              "      <th>members</th>\n",
              "      <th>favorites</th>\n",
              "    </tr>\n",
              "  </thead>\n",
              "  <tbody>\n",
              "    <tr>\n",
              "      <th>count</th>\n",
              "      <td>14478</td>\n",
              "      <td>14478.000000</td>\n",
              "      <td>1.447800e+04</td>\n",
              "      <td>14478.000000</td>\n",
              "    </tr>\n",
              "    <tr>\n",
              "      <th>unique</th>\n",
              "      <td>14477</td>\n",
              "      <td>NaN</td>\n",
              "      <td>NaN</td>\n",
              "      <td>NaN</td>\n",
              "    </tr>\n",
              "    <tr>\n",
              "      <th>top</th>\n",
              "      <td>Hinamatsuri</td>\n",
              "      <td>NaN</td>\n",
              "      <td>NaN</td>\n",
              "      <td>NaN</td>\n",
              "    </tr>\n",
              "    <tr>\n",
              "      <th>freq</th>\n",
              "      <td>2</td>\n",
              "      <td>NaN</td>\n",
              "      <td>NaN</td>\n",
              "      <td>NaN</td>\n",
              "    </tr>\n",
              "    <tr>\n",
              "      <th>mean</th>\n",
              "      <td>NaN</td>\n",
              "      <td>6.142482</td>\n",
              "      <td>2.296640e+04</td>\n",
              "      <td>311.649606</td>\n",
              "    </tr>\n",
              "    <tr>\n",
              "      <th>std</th>\n",
              "      <td>NaN</td>\n",
              "      <td>1.463981</td>\n",
              "      <td>7.498136e+04</td>\n",
              "      <td>2615.554211</td>\n",
              "    </tr>\n",
              "    <tr>\n",
              "      <th>min</th>\n",
              "      <td>NaN</td>\n",
              "      <td>0.000000</td>\n",
              "      <td>0.000000e+00</td>\n",
              "      <td>0.000000</td>\n",
              "    </tr>\n",
              "    <tr>\n",
              "      <th>25%</th>\n",
              "      <td>NaN</td>\n",
              "      <td>5.550000</td>\n",
              "      <td>2.450000e+02</td>\n",
              "      <td>0.000000</td>\n",
              "    </tr>\n",
              "    <tr>\n",
              "      <th>50%</th>\n",
              "      <td>NaN</td>\n",
              "      <td>6.370000</td>\n",
              "      <td>1.679500e+03</td>\n",
              "      <td>2.000000</td>\n",
              "    </tr>\n",
              "    <tr>\n",
              "      <th>75%</th>\n",
              "      <td>NaN</td>\n",
              "      <td>7.060000</td>\n",
              "      <td>1.037900e+04</td>\n",
              "      <td>23.000000</td>\n",
              "    </tr>\n",
              "    <tr>\n",
              "      <th>max</th>\n",
              "      <td>NaN</td>\n",
              "      <td>10.000000</td>\n",
              "      <td>1.456378e+06</td>\n",
              "      <td>106895.000000</td>\n",
              "    </tr>\n",
              "  </tbody>\n",
              "</table>\n",
              "</div>"
            ],
            "text/plain": [
              "              title         score       members      favorites\n",
              "count         14478  14478.000000  1.447800e+04   14478.000000\n",
              "unique        14477           NaN           NaN            NaN\n",
              "top     Hinamatsuri           NaN           NaN            NaN\n",
              "freq              2           NaN           NaN            NaN\n",
              "mean            NaN      6.142482  2.296640e+04     311.649606\n",
              "std             NaN      1.463981  7.498136e+04    2615.554211\n",
              "min             NaN      0.000000  0.000000e+00       0.000000\n",
              "25%             NaN      5.550000  2.450000e+02       0.000000\n",
              "50%             NaN      6.370000  1.679500e+03       2.000000\n",
              "75%             NaN      7.060000  1.037900e+04      23.000000\n",
              "max             NaN     10.000000  1.456378e+06  106895.000000"
            ]
          },
          "execution_count": 13,
          "metadata": {},
          "output_type": "execute_result"
        }
      ],
      "source": [
        "df_stats.describe(include='all')"
      ]
    },
    {
      "cell_type": "markdown",
      "metadata": {
        "id": "09aGGaz9PYEY"
      },
      "source": [
        "## Posibles errores en los datos"
      ]
    },
    {
      "cell_type": "markdown",
      "metadata": {
        "id": "mLg2t5g8PYEY"
      },
      "source": [
        "Al construir los datasets, es posible que se hayan generado **datos duplicados**, ya sea porque alguien ingresó dos veces la misma información, o porque se generó un error en la recolección de datos. Es importante **detectar y decidir qué hacer con estos datos**."
      ]
    },
    {
      "cell_type": "markdown",
      "metadata": {
        "id": "2u883gTnxSe1"
      },
      "source": [
        "4.  ¿Existen filas duplicadas en alguno de los dataframes?\n"
      ]
    },
    {
      "cell_type": "code",
      "execution_count": null,
      "metadata": {
        "id": "oSCqVVHLxc7F"
      },
      "outputs": [
        {
          "data": {
            "text/plain": [
              "0        False\n",
              "1        False\n",
              "2        False\n",
              "3        False\n",
              "4        False\n",
              "         ...  \n",
              "14473    False\n",
              "14474    False\n",
              "14475    False\n",
              "14476    False\n",
              "14477    False\n",
              "Length: 14478, dtype: bool"
            ]
          },
          "execution_count": 24,
          "metadata": {},
          "output_type": "execute_result"
        }
      ],
      "source": [
        "df_anime.duplicated()\n",
        "\n",
        "# No existen duplicados en las filas"
      ]
    },
    {
      "cell_type": "code",
      "execution_count": null,
      "metadata": {
        "id": "lbiWjsayPYEZ"
      },
      "outputs": [
        {
          "data": {
            "text/plain": [
              "0        False\n",
              "1        False\n",
              "2        False\n",
              "3        False\n",
              "4        False\n",
              "         ...  \n",
              "14473    False\n",
              "14474    False\n",
              "14475    False\n",
              "14476    False\n",
              "14477    False\n",
              "Length: 14478, dtype: bool"
            ]
          },
          "execution_count": 15,
          "metadata": {},
          "output_type": "execute_result"
        }
      ],
      "source": [
        "df_stats.duplicated()\n",
        "\n",
        "# No existen duplicados en las filas"
      ]
    },
    {
      "cell_type": "markdown",
      "metadata": {
        "id": "BwJcZAElPYEZ"
      },
      "source": [
        "Otro caso común es que existan **valores nulos** en los datos. Al igual que antes, es importante **identificarlos y decidir qué hacer con ellos**."
      ]
    },
    {
      "cell_type": "markdown",
      "metadata": {
        "id": "txTGpQT7x77U"
      },
      "source": [
        "5.  ¿Hay filas con valores nulos en los dataframes?"
      ]
    },
    {
      "cell_type": "code",
      "execution_count": null,
      "metadata": {
        "id": "-jq9z9Gcx_u-"
      },
      "outputs": [
        {
          "name": "stdout",
          "output_type": "stream",
          "text": [
            "<class 'pandas.core.frame.DataFrame'>\n",
            "RangeIndex: 14478 entries, 0 to 14477\n",
            "Data columns (total 6 columns):\n",
            " #   Column    Non-Null Count  Dtype \n",
            "---  ------    --------------  ----- \n",
            " 0   title     14478 non-null  object\n",
            " 1   type      14478 non-null  object\n",
            " 2   source    14478 non-null  object\n",
            " 3   episodes  14478 non-null  int64 \n",
            " 4   airing    14478 non-null  bool  \n",
            " 5   studio    8544 non-null   object\n",
            "dtypes: bool(1), int64(1), object(4)\n",
            "memory usage: 579.8+ KB\n"
          ]
        }
      ],
      "source": [
        "df_anime.info()\n",
        "\n",
        "# Existen filas que contienen en la columna 'studio'\n",
        "# un valor nulo, esto para 5934 filas"
      ]
    },
    {
      "cell_type": "code",
      "execution_count": null,
      "metadata": {
        "id": "4ipGDVaRPYEa"
      },
      "outputs": [
        {
          "name": "stdout",
          "output_type": "stream",
          "text": [
            "<class 'pandas.core.frame.DataFrame'>\n",
            "RangeIndex: 14478 entries, 0 to 14477\n",
            "Data columns (total 4 columns):\n",
            " #   Column     Non-Null Count  Dtype  \n",
            "---  ------     --------------  -----  \n",
            " 0   title      14478 non-null  object \n",
            " 1   score      14478 non-null  float64\n",
            " 2   members    14478 non-null  int64  \n",
            " 3   favorites  14478 non-null  int64  \n",
            "dtypes: float64(1), int64(2), object(1)\n",
            "memory usage: 452.6+ KB\n"
          ]
        }
      ],
      "source": [
        "df_stats.info()\n",
        "\n",
        "# No contiene filas con valores nulos"
      ]
    },
    {
      "cell_type": "markdown",
      "metadata": {
        "id": "z88uyyQaPYEa"
      },
      "source": [
        "Consideremos que estamos en la situación en la que **decidimos eliminar los valores nulos**."
      ]
    },
    {
      "cell_type": "markdown",
      "metadata": {
        "id": "Nq4MxtnsPYEb"
      },
      "source": [
        "6. En caso de existir valores nulos, elimine las filas que los contengan. ¿Cuántas filas quedan en cada dataset luego de eliminar los valores nulos?"
      ]
    },
    {
      "cell_type": "code",
      "execution_count": null,
      "metadata": {
        "id": "C3Tq4xmqPYEb"
      },
      "outputs": [
        {
          "data": {
            "text/html": [
              "<div>\n",
              "<style scoped>\n",
              "    .dataframe tbody tr th:only-of-type {\n",
              "        vertical-align: middle;\n",
              "    }\n",
              "\n",
              "    .dataframe tbody tr th {\n",
              "        vertical-align: top;\n",
              "    }\n",
              "\n",
              "    .dataframe thead th {\n",
              "        text-align: right;\n",
              "    }\n",
              "</style>\n",
              "<table border=\"1\" class=\"dataframe\">\n",
              "  <thead>\n",
              "    <tr style=\"text-align: right;\">\n",
              "      <th></th>\n",
              "      <th>title</th>\n",
              "      <th>type</th>\n",
              "      <th>source</th>\n",
              "      <th>episodes</th>\n",
              "      <th>airing</th>\n",
              "      <th>studio</th>\n",
              "    </tr>\n",
              "  </thead>\n",
              "  <tbody>\n",
              "    <tr>\n",
              "      <th>0</th>\n",
              "      <td>Inu x Boku SS</td>\n",
              "      <td>TV</td>\n",
              "      <td>Manga</td>\n",
              "      <td>12</td>\n",
              "      <td>False</td>\n",
              "      <td>David Production</td>\n",
              "    </tr>\n",
              "    <tr>\n",
              "      <th>1</th>\n",
              "      <td>Seto no Hanayome</td>\n",
              "      <td>TV</td>\n",
              "      <td>Manga</td>\n",
              "      <td>26</td>\n",
              "      <td>False</td>\n",
              "      <td>Gonzo</td>\n",
              "    </tr>\n",
              "    <tr>\n",
              "      <th>2</th>\n",
              "      <td>Shugo Chara!! Doki</td>\n",
              "      <td>TV</td>\n",
              "      <td>Manga</td>\n",
              "      <td>51</td>\n",
              "      <td>False</td>\n",
              "      <td>Satelight</td>\n",
              "    </tr>\n",
              "    <tr>\n",
              "      <th>3</th>\n",
              "      <td>Princess Tutu</td>\n",
              "      <td>TV</td>\n",
              "      <td>Original</td>\n",
              "      <td>38</td>\n",
              "      <td>False</td>\n",
              "      <td>Hal Film Maker</td>\n",
              "    </tr>\n",
              "    <tr>\n",
              "      <th>4</th>\n",
              "      <td>Bakuman. 3rd Season</td>\n",
              "      <td>TV</td>\n",
              "      <td>Manga</td>\n",
              "      <td>25</td>\n",
              "      <td>False</td>\n",
              "      <td>J.C.Staff</td>\n",
              "    </tr>\n",
              "    <tr>\n",
              "      <th>...</th>\n",
              "      <td>...</td>\n",
              "      <td>...</td>\n",
              "      <td>...</td>\n",
              "      <td>...</td>\n",
              "      <td>...</td>\n",
              "      <td>...</td>\n",
              "    </tr>\n",
              "    <tr>\n",
              "      <th>14461</th>\n",
              "      <td>Tobidashi wa Abunaizo! Mushi Mushi Mura no Kou...</td>\n",
              "      <td>OVA</td>\n",
              "      <td>Unknown</td>\n",
              "      <td>1</td>\n",
              "      <td>False</td>\n",
              "      <td>Toei Animation</td>\n",
              "    </tr>\n",
              "    <tr>\n",
              "      <th>14464</th>\n",
              "      <td>Mr. Men Little Miss</td>\n",
              "      <td>ONA</td>\n",
              "      <td>Picture book</td>\n",
              "      <td>0</td>\n",
              "      <td>True</td>\n",
              "      <td>Sanrio</td>\n",
              "    </tr>\n",
              "    <tr>\n",
              "      <th>14469</th>\n",
              "      <td>Ichinen Ikkumi</td>\n",
              "      <td>OVA</td>\n",
              "      <td>Unknown</td>\n",
              "      <td>1</td>\n",
              "      <td>False</td>\n",
              "      <td>Toei Animation</td>\n",
              "    </tr>\n",
              "    <tr>\n",
              "      <th>14470</th>\n",
              "      <td>Mushi Mushi Mura no Nakama-tachi: Minna Ii Tok...</td>\n",
              "      <td>OVA</td>\n",
              "      <td>Original</td>\n",
              "      <td>1</td>\n",
              "      <td>False</td>\n",
              "      <td>Toei Animation</td>\n",
              "    </tr>\n",
              "    <tr>\n",
              "      <th>14477</th>\n",
              "      <td>Senjou no Valkyria Special</td>\n",
              "      <td>Special</td>\n",
              "      <td>Unknown</td>\n",
              "      <td>1</td>\n",
              "      <td>False</td>\n",
              "      <td>A-1 Pictures</td>\n",
              "    </tr>\n",
              "  </tbody>\n",
              "</table>\n",
              "<p>8544 rows × 6 columns</p>\n",
              "</div>"
            ],
            "text/plain": [
              "                                                   title     type  \\\n",
              "0                                          Inu x Boku SS       TV   \n",
              "1                                       Seto no Hanayome       TV   \n",
              "2                                     Shugo Chara!! Doki       TV   \n",
              "3                                          Princess Tutu       TV   \n",
              "4                                    Bakuman. 3rd Season       TV   \n",
              "...                                                  ...      ...   \n",
              "14461  Tobidashi wa Abunaizo! Mushi Mushi Mura no Kou...      OVA   \n",
              "14464                                Mr. Men Little Miss      ONA   \n",
              "14469                                     Ichinen Ikkumi      OVA   \n",
              "14470  Mushi Mushi Mura no Nakama-tachi: Minna Ii Tok...      OVA   \n",
              "14477                         Senjou no Valkyria Special  Special   \n",
              "\n",
              "             source  episodes  airing            studio  \n",
              "0             Manga        12   False  David Production  \n",
              "1             Manga        26   False             Gonzo  \n",
              "2             Manga        51   False         Satelight  \n",
              "3          Original        38   False    Hal Film Maker  \n",
              "4             Manga        25   False         J.C.Staff  \n",
              "...             ...       ...     ...               ...  \n",
              "14461       Unknown         1   False    Toei Animation  \n",
              "14464  Picture book         0    True            Sanrio  \n",
              "14469       Unknown         1   False    Toei Animation  \n",
              "14470      Original         1   False    Toei Animation  \n",
              "14477       Unknown         1   False      A-1 Pictures  \n",
              "\n",
              "[8544 rows x 6 columns]"
            ]
          },
          "execution_count": 25,
          "metadata": {},
          "output_type": "execute_result"
        }
      ],
      "source": [
        "df_anime.dropna()\n",
        "\n",
        "# Ya vimo que habia filas con nulos, al usar el comando '.dropna()'\n",
        "# solo quedan 8544"
      ]
    },
    {
      "cell_type": "code",
      "execution_count": 26,
      "metadata": {
        "id": "RdE_ipyNPYEb"
      },
      "outputs": [
        {
          "data": {
            "text/html": [
              "<div>\n",
              "<style scoped>\n",
              "    .dataframe tbody tr th:only-of-type {\n",
              "        vertical-align: middle;\n",
              "    }\n",
              "\n",
              "    .dataframe tbody tr th {\n",
              "        vertical-align: top;\n",
              "    }\n",
              "\n",
              "    .dataframe thead th {\n",
              "        text-align: right;\n",
              "    }\n",
              "</style>\n",
              "<table border=\"1\" class=\"dataframe\">\n",
              "  <thead>\n",
              "    <tr style=\"text-align: right;\">\n",
              "      <th></th>\n",
              "      <th>title</th>\n",
              "      <th>score</th>\n",
              "      <th>members</th>\n",
              "      <th>favorites</th>\n",
              "    </tr>\n",
              "  </thead>\n",
              "  <tbody>\n",
              "    <tr>\n",
              "      <th>0</th>\n",
              "      <td>Inu x Boku SS</td>\n",
              "      <td>7.63</td>\n",
              "      <td>283882</td>\n",
              "      <td>2809</td>\n",
              "    </tr>\n",
              "    <tr>\n",
              "      <th>1</th>\n",
              "      <td>Seto no Hanayome</td>\n",
              "      <td>7.89</td>\n",
              "      <td>204003</td>\n",
              "      <td>2579</td>\n",
              "    </tr>\n",
              "    <tr>\n",
              "      <th>2</th>\n",
              "      <td>Shugo Chara!! Doki</td>\n",
              "      <td>7.55</td>\n",
              "      <td>70127</td>\n",
              "      <td>802</td>\n",
              "    </tr>\n",
              "    <tr>\n",
              "      <th>3</th>\n",
              "      <td>Princess Tutu</td>\n",
              "      <td>8.21</td>\n",
              "      <td>93312</td>\n",
              "      <td>3344</td>\n",
              "    </tr>\n",
              "    <tr>\n",
              "      <th>4</th>\n",
              "      <td>Bakuman. 3rd Season</td>\n",
              "      <td>8.67</td>\n",
              "      <td>182765</td>\n",
              "      <td>2082</td>\n",
              "    </tr>\n",
              "    <tr>\n",
              "      <th>...</th>\n",
              "      <td>...</td>\n",
              "      <td>...</td>\n",
              "      <td>...</td>\n",
              "      <td>...</td>\n",
              "    </tr>\n",
              "    <tr>\n",
              "      <th>14473</th>\n",
              "      <td>Gutchonpa Omoshiro Hanashi</td>\n",
              "      <td>5.50</td>\n",
              "      <td>76</td>\n",
              "      <td>0</td>\n",
              "    </tr>\n",
              "    <tr>\n",
              "      <th>14474</th>\n",
              "      <td>Geba Geba Shou Time!</td>\n",
              "      <td>4.60</td>\n",
              "      <td>90</td>\n",
              "      <td>0</td>\n",
              "    </tr>\n",
              "    <tr>\n",
              "      <th>14475</th>\n",
              "      <td>Godzilla: Hoshi wo Kuu Mono</td>\n",
              "      <td>0.00</td>\n",
              "      <td>1741</td>\n",
              "      <td>0</td>\n",
              "    </tr>\n",
              "    <tr>\n",
              "      <th>14476</th>\n",
              "      <td>Nippon Mukashibanashi: Sannen Netarou</td>\n",
              "      <td>6.00</td>\n",
              "      <td>32</td>\n",
              "      <td>0</td>\n",
              "    </tr>\n",
              "    <tr>\n",
              "      <th>14477</th>\n",
              "      <td>Senjou no Valkyria Special</td>\n",
              "      <td>5.15</td>\n",
              "      <td>476</td>\n",
              "      <td>0</td>\n",
              "    </tr>\n",
              "  </tbody>\n",
              "</table>\n",
              "<p>14478 rows × 4 columns</p>\n",
              "</div>"
            ],
            "text/plain": [
              "                                       title  score  members  favorites\n",
              "0                              Inu x Boku SS   7.63   283882       2809\n",
              "1                           Seto no Hanayome   7.89   204003       2579\n",
              "2                         Shugo Chara!! Doki   7.55    70127        802\n",
              "3                              Princess Tutu   8.21    93312       3344\n",
              "4                        Bakuman. 3rd Season   8.67   182765       2082\n",
              "...                                      ...    ...      ...        ...\n",
              "14473             Gutchonpa Omoshiro Hanashi   5.50       76          0\n",
              "14474                   Geba Geba Shou Time!   4.60       90          0\n",
              "14475            Godzilla: Hoshi wo Kuu Mono   0.00     1741          0\n",
              "14476  Nippon Mukashibanashi: Sannen Netarou   6.00       32          0\n",
              "14477             Senjou no Valkyria Special   5.15      476          0\n",
              "\n",
              "[14478 rows x 4 columns]"
            ]
          },
          "execution_count": 26,
          "metadata": {},
          "output_type": "execute_result"
        }
      ],
      "source": [
        "df_stats.dropna()\n",
        "\n",
        "# Queda igual"
      ]
    },
    {
      "cell_type": "markdown",
      "metadata": {
        "id": "N8mB-040ynfR"
      },
      "source": [
        "## Juntemos nuestros datos\n",
        "\n",
        "Con el objetivo de tener toda la información en un solo dataframe, y así poder responder preguntas más complejas, **unamos ambos dataframes**."
      ]
    },
    {
      "cell_type": "markdown",
      "metadata": {
        "id": "GIwUxEfBPYEd"
      },
      "source": [
        "7. Junte ambos dataframes en uno solo **a través de la columna \"title\"** con un **inner join**, y **muestre los primeros 5 registros** de este nuevo dataframe."
      ]
    },
    {
      "cell_type": "code",
      "execution_count": 27,
      "metadata": {
        "id": "UKw7UPFoyvkr"
      },
      "outputs": [
        {
          "data": {
            "text/html": [
              "<div>\n",
              "<style scoped>\n",
              "    .dataframe tbody tr th:only-of-type {\n",
              "        vertical-align: middle;\n",
              "    }\n",
              "\n",
              "    .dataframe tbody tr th {\n",
              "        vertical-align: top;\n",
              "    }\n",
              "\n",
              "    .dataframe thead th {\n",
              "        text-align: right;\n",
              "    }\n",
              "</style>\n",
              "<table border=\"1\" class=\"dataframe\">\n",
              "  <thead>\n",
              "    <tr style=\"text-align: right;\">\n",
              "      <th></th>\n",
              "      <th>title</th>\n",
              "      <th>type</th>\n",
              "      <th>source</th>\n",
              "      <th>episodes</th>\n",
              "      <th>airing</th>\n",
              "      <th>studio</th>\n",
              "      <th>score</th>\n",
              "      <th>members</th>\n",
              "      <th>favorites</th>\n",
              "    </tr>\n",
              "  </thead>\n",
              "  <tbody>\n",
              "    <tr>\n",
              "      <th>0</th>\n",
              "      <td>Inu x Boku SS</td>\n",
              "      <td>TV</td>\n",
              "      <td>Manga</td>\n",
              "      <td>12</td>\n",
              "      <td>False</td>\n",
              "      <td>David Production</td>\n",
              "      <td>7.63</td>\n",
              "      <td>283882</td>\n",
              "      <td>2809</td>\n",
              "    </tr>\n",
              "    <tr>\n",
              "      <th>1</th>\n",
              "      <td>Seto no Hanayome</td>\n",
              "      <td>TV</td>\n",
              "      <td>Manga</td>\n",
              "      <td>26</td>\n",
              "      <td>False</td>\n",
              "      <td>Gonzo</td>\n",
              "      <td>7.89</td>\n",
              "      <td>204003</td>\n",
              "      <td>2579</td>\n",
              "    </tr>\n",
              "    <tr>\n",
              "      <th>2</th>\n",
              "      <td>Shugo Chara!! Doki</td>\n",
              "      <td>TV</td>\n",
              "      <td>Manga</td>\n",
              "      <td>51</td>\n",
              "      <td>False</td>\n",
              "      <td>Satelight</td>\n",
              "      <td>7.55</td>\n",
              "      <td>70127</td>\n",
              "      <td>802</td>\n",
              "    </tr>\n",
              "    <tr>\n",
              "      <th>3</th>\n",
              "      <td>Princess Tutu</td>\n",
              "      <td>TV</td>\n",
              "      <td>Original</td>\n",
              "      <td>38</td>\n",
              "      <td>False</td>\n",
              "      <td>Hal Film Maker</td>\n",
              "      <td>8.21</td>\n",
              "      <td>93312</td>\n",
              "      <td>3344</td>\n",
              "    </tr>\n",
              "    <tr>\n",
              "      <th>4</th>\n",
              "      <td>Bakuman. 3rd Season</td>\n",
              "      <td>TV</td>\n",
              "      <td>Manga</td>\n",
              "      <td>25</td>\n",
              "      <td>False</td>\n",
              "      <td>J.C.Staff</td>\n",
              "      <td>8.67</td>\n",
              "      <td>182765</td>\n",
              "      <td>2082</td>\n",
              "    </tr>\n",
              "  </tbody>\n",
              "</table>\n",
              "</div>"
            ],
            "text/plain": [
              "                 title type    source  episodes  airing            studio  \\\n",
              "0        Inu x Boku SS   TV     Manga        12   False  David Production   \n",
              "1     Seto no Hanayome   TV     Manga        26   False             Gonzo   \n",
              "2   Shugo Chara!! Doki   TV     Manga        51   False         Satelight   \n",
              "3        Princess Tutu   TV  Original        38   False    Hal Film Maker   \n",
              "4  Bakuman. 3rd Season   TV     Manga        25   False         J.C.Staff   \n",
              "\n",
              "   score  members  favorites  \n",
              "0   7.63   283882       2809  \n",
              "1   7.89   204003       2579  \n",
              "2   7.55    70127        802  \n",
              "3   8.21    93312       3344  \n",
              "4   8.67   182765       2082  "
            ]
          },
          "execution_count": 27,
          "metadata": {},
          "output_type": "execute_result"
        }
      ],
      "source": [
        "pd.merge(df_anime, df_stats, on=\"title\").head(5)"
      ]
    },
    {
      "cell_type": "markdown",
      "metadata": {
        "id": "kjH0Q24TPYEo"
      },
      "source": [
        "## Obtengamos información de los datos"
      ]
    },
    {
      "cell_type": "markdown",
      "metadata": {
        "id": "EsCmiI_6PYEp"
      },
      "source": [
        "Ahora tenemos que entender un poco más sobre los datos que tenemos, para que el equipo de contenido pueda tomar decisiones informadas.\n",
        "\n",
        "Para esto, tu jefe te ha solicitado las siguientes tareas:"
      ]
    },
    {
      "cell_type": "markdown",
      "metadata": {
        "id": "NVskluTWyrA0"
      },
      "source": [
        "8. \"Necesitamos saber cuales son los animes más populares.\" Para esto, **entrega los 5 animes con más miembros** (número de usuarios que tienen el anime en su lista)."
      ]
    },
    {
      "cell_type": "code",
      "execution_count": 28,
      "metadata": {
        "id": "9u0I_Ip3zT0B"
      },
      "outputs": [
        {
          "data": {
            "text/html": [
              "<div>\n",
              "<style scoped>\n",
              "    .dataframe tbody tr th:only-of-type {\n",
              "        vertical-align: middle;\n",
              "    }\n",
              "\n",
              "    .dataframe tbody tr th {\n",
              "        vertical-align: top;\n",
              "    }\n",
              "\n",
              "    .dataframe thead th {\n",
              "        text-align: right;\n",
              "    }\n",
              "</style>\n",
              "<table border=\"1\" class=\"dataframe\">\n",
              "  <thead>\n",
              "    <tr style=\"text-align: right;\">\n",
              "      <th></th>\n",
              "      <th>title</th>\n",
              "      <th>score</th>\n",
              "      <th>members</th>\n",
              "      <th>favorites</th>\n",
              "    </tr>\n",
              "  </thead>\n",
              "  <tbody>\n",
              "    <tr>\n",
              "      <th>7913</th>\n",
              "      <td>Death Note</td>\n",
              "      <td>8.67</td>\n",
              "      <td>1456378</td>\n",
              "      <td>88696</td>\n",
              "    </tr>\n",
              "    <tr>\n",
              "      <th>8123</th>\n",
              "      <td>Shingeki no Kyojin</td>\n",
              "      <td>8.49</td>\n",
              "      <td>1345842</td>\n",
              "      <td>64032</td>\n",
              "    </tr>\n",
              "    <tr>\n",
              "      <th>6296</th>\n",
              "      <td>Sword Art Online</td>\n",
              "      <td>7.64</td>\n",
              "      <td>1301616</td>\n",
              "      <td>50042</td>\n",
              "    </tr>\n",
              "    <tr>\n",
              "      <th>2555</th>\n",
              "      <td>Fullmetal Alchemist: Brotherhood</td>\n",
              "      <td>9.25</td>\n",
              "      <td>1199091</td>\n",
              "      <td>106895</td>\n",
              "    </tr>\n",
              "    <tr>\n",
              "      <th>8863</th>\n",
              "      <td>One Punch Man</td>\n",
              "      <td>8.73</td>\n",
              "      <td>1020754</td>\n",
              "      <td>30747</td>\n",
              "    </tr>\n",
              "  </tbody>\n",
              "</table>\n",
              "</div>"
            ],
            "text/plain": [
              "                                 title  score  members  favorites\n",
              "7913                        Death Note   8.67  1456378      88696\n",
              "8123                Shingeki no Kyojin   8.49  1345842      64032\n",
              "6296                  Sword Art Online   7.64  1301616      50042\n",
              "2555  Fullmetal Alchemist: Brotherhood   9.25  1199091     106895\n",
              "8863                     One Punch Man   8.73  1020754      30747"
            ]
          },
          "execution_count": 28,
          "metadata": {},
          "output_type": "execute_result"
        }
      ],
      "source": [
        "df_stats.sort_values(by=\"members\", ascending=False).head(5)"
      ]
    },
    {
      "cell_type": "markdown",
      "metadata": {
        "id": "fchx0Kd3PYEq"
      },
      "source": [
        "9. Esta información puede ser muy valiosa para identificar alguna característica en común de los animes más populares. **Realiza una observación de alguna característica en común, o algo relevante, de los 5 animes** obtenidos en la pregunta anterior."
      ]
    },
    {
      "cell_type": "markdown",
      "metadata": {},
      "source": [
        "Tienen un Score bastante alto, con el mas bajo de 7.64 y el mas alto de 9.25 con una media de aproximadamente 8.6."
      ]
    },
    {
      "cell_type": "markdown",
      "metadata": {
        "id": "VfecebgFzUNT"
      },
      "source": [
        "10. Además de un anime popular, el equipo te dice que quiere hacer un anime de mucha calidad, osea, que sea muy bien evaluado, en particular buscan que tenga un score mayor a 9.0. **Entrega los con score mayor a 9.0**."
      ]
    },
    {
      "cell_type": "code",
      "execution_count": 29,
      "metadata": {
        "id": "jSan9NG5PYEs"
      },
      "outputs": [
        {
          "data": {
            "text/html": [
              "<div>\n",
              "<style scoped>\n",
              "    .dataframe tbody tr th:only-of-type {\n",
              "        vertical-align: middle;\n",
              "    }\n",
              "\n",
              "    .dataframe tbody tr th {\n",
              "        vertical-align: top;\n",
              "    }\n",
              "\n",
              "    .dataframe thead th {\n",
              "        text-align: right;\n",
              "    }\n",
              "</style>\n",
              "<table border=\"1\" class=\"dataframe\">\n",
              "  <thead>\n",
              "    <tr style=\"text-align: right;\">\n",
              "      <th></th>\n",
              "      <th>title</th>\n",
              "      <th>score</th>\n",
              "      <th>members</th>\n",
              "      <th>favorites</th>\n",
              "    </tr>\n",
              "  </thead>\n",
              "  <tbody>\n",
              "    <tr>\n",
              "      <th>418</th>\n",
              "      <td>Hunter x Hunter (2011)</td>\n",
              "      <td>9.11</td>\n",
              "      <td>720920</td>\n",
              "      <td>64375</td>\n",
              "    </tr>\n",
              "    <tr>\n",
              "      <th>548</th>\n",
              "      <td>Manichi ga Tsurai Kimochi Wakarimasu ka: Yurus...</td>\n",
              "      <td>10.00</td>\n",
              "      <td>29</td>\n",
              "      <td>0</td>\n",
              "    </tr>\n",
              "    <tr>\n",
              "      <th>1028</th>\n",
              "      <td>Kimi no Na wa.</td>\n",
              "      <td>9.19</td>\n",
              "      <td>730076</td>\n",
              "      <td>34912</td>\n",
              "    </tr>\n",
              "    <tr>\n",
              "      <th>1252</th>\n",
              "      <td>Gintama°</td>\n",
              "      <td>9.15</td>\n",
              "      <td>198744</td>\n",
              "      <td>5668</td>\n",
              "    </tr>\n",
              "    <tr>\n",
              "      <th>1307</th>\n",
              "      <td>3-gatsu no Lion 2nd Season</td>\n",
              "      <td>9.10</td>\n",
              "      <td>85744</td>\n",
              "      <td>2257</td>\n",
              "    </tr>\n",
              "    <tr>\n",
              "      <th>2555</th>\n",
              "      <td>Fullmetal Alchemist: Brotherhood</td>\n",
              "      <td>9.25</td>\n",
              "      <td>1199091</td>\n",
              "      <td>106895</td>\n",
              "    </tr>\n",
              "    <tr>\n",
              "      <th>2783</th>\n",
              "      <td>Clannad: After Story</td>\n",
              "      <td>9.01</td>\n",
              "      <td>607387</td>\n",
              "      <td>47380</td>\n",
              "    </tr>\n",
              "    <tr>\n",
              "      <th>2999</th>\n",
              "      <td>Steins;Gate</td>\n",
              "      <td>9.14</td>\n",
              "      <td>1010330</td>\n",
              "      <td>92423</td>\n",
              "    </tr>\n",
              "    <tr>\n",
              "      <th>3129</th>\n",
              "      <td>Okaachan Gomen ne</td>\n",
              "      <td>9.20</td>\n",
              "      <td>73</td>\n",
              "      <td>0</td>\n",
              "    </tr>\n",
              "    <tr>\n",
              "      <th>5783</th>\n",
              "      <td>Gintama&amp;#039;: Enchousen</td>\n",
              "      <td>9.07</td>\n",
              "      <td>123572</td>\n",
              "      <td>1509</td>\n",
              "    </tr>\n",
              "    <tr>\n",
              "      <th>6177</th>\n",
              "      <td>Steins;Gate 0</td>\n",
              "      <td>9.15</td>\n",
              "      <td>223989</td>\n",
              "      <td>1882</td>\n",
              "    </tr>\n",
              "    <tr>\n",
              "      <th>6553</th>\n",
              "      <td>Gintama</td>\n",
              "      <td>9.01</td>\n",
              "      <td>459031</td>\n",
              "      <td>33781</td>\n",
              "    </tr>\n",
              "    <tr>\n",
              "      <th>6572</th>\n",
              "      <td>Koe no Katachi</td>\n",
              "      <td>9.04</td>\n",
              "      <td>511915</td>\n",
              "      <td>19815</td>\n",
              "    </tr>\n",
              "    <tr>\n",
              "      <th>6615</th>\n",
              "      <td>Owarimonogatari 2nd Season</td>\n",
              "      <td>9.02</td>\n",
              "      <td>113928</td>\n",
              "      <td>2432</td>\n",
              "    </tr>\n",
              "    <tr>\n",
              "      <th>8992</th>\n",
              "      <td>Gintama&amp;#039;</td>\n",
              "      <td>9.11</td>\n",
              "      <td>215527</td>\n",
              "      <td>4549</td>\n",
              "    </tr>\n",
              "    <tr>\n",
              "      <th>10879</th>\n",
              "      <td>Gintama.</td>\n",
              "      <td>9.02</td>\n",
              "      <td>91695</td>\n",
              "      <td>1237</td>\n",
              "    </tr>\n",
              "    <tr>\n",
              "      <th>12724</th>\n",
              "      <td>Ginga Eiyuu Densetsu</td>\n",
              "      <td>9.11</td>\n",
              "      <td>124993</td>\n",
              "      <td>8567</td>\n",
              "    </tr>\n",
              "    <tr>\n",
              "      <th>13230</th>\n",
              "      <td>Gintama Movie 2: Kanketsu-hen - Yorozuya yo Ei...</td>\n",
              "      <td>9.04</td>\n",
              "      <td>105458</td>\n",
              "      <td>1395</td>\n",
              "    </tr>\n",
              "    <tr>\n",
              "      <th>14208</th>\n",
              "      <td>Hashire John</td>\n",
              "      <td>9.50</td>\n",
              "      <td>41</td>\n",
              "      <td>0</td>\n",
              "    </tr>\n",
              "    <tr>\n",
              "      <th>14317</th>\n",
              "      <td>Kuunyan no Koutsuu Anzen: Tadashii Jitensha no...</td>\n",
              "      <td>10.00</td>\n",
              "      <td>34</td>\n",
              "      <td>0</td>\n",
              "    </tr>\n",
              "    <tr>\n",
              "      <th>14403</th>\n",
              "      <td>Dokidoki Little Ooyasan</td>\n",
              "      <td>9.52</td>\n",
              "      <td>357</td>\n",
              "      <td>21</td>\n",
              "    </tr>\n",
              "    <tr>\n",
              "      <th>14407</th>\n",
              "      <td>Ittekimasu</td>\n",
              "      <td>10.00</td>\n",
              "      <td>30</td>\n",
              "      <td>0</td>\n",
              "    </tr>\n",
              "    <tr>\n",
              "      <th>14454</th>\n",
              "      <td>Tat-chan - Momo-chan no Fushigina Taiken</td>\n",
              "      <td>9.50</td>\n",
              "      <td>35</td>\n",
              "      <td>0</td>\n",
              "    </tr>\n",
              "    <tr>\n",
              "      <th>14467</th>\n",
              "      <td>Kyouiku Eiga-sai Jushou Anime Series</td>\n",
              "      <td>10.00</td>\n",
              "      <td>30</td>\n",
              "      <td>0</td>\n",
              "    </tr>\n",
              "  </tbody>\n",
              "</table>\n",
              "</div>"
            ],
            "text/plain": [
              "                                                   title  score  members  \\\n",
              "418                               Hunter x Hunter (2011)   9.11   720920   \n",
              "548    Manichi ga Tsurai Kimochi Wakarimasu ka: Yurus...  10.00       29   \n",
              "1028                                      Kimi no Na wa.   9.19   730076   \n",
              "1252                                            Gintama°   9.15   198744   \n",
              "1307                          3-gatsu no Lion 2nd Season   9.10    85744   \n",
              "2555                    Fullmetal Alchemist: Brotherhood   9.25  1199091   \n",
              "2783                                Clannad: After Story   9.01   607387   \n",
              "2999                                         Steins;Gate   9.14  1010330   \n",
              "3129                                   Okaachan Gomen ne   9.20       73   \n",
              "5783                            Gintama&#039;: Enchousen   9.07   123572   \n",
              "6177                                       Steins;Gate 0   9.15   223989   \n",
              "6553                                             Gintama   9.01   459031   \n",
              "6572                                      Koe no Katachi   9.04   511915   \n",
              "6615                          Owarimonogatari 2nd Season   9.02   113928   \n",
              "8992                                       Gintama&#039;   9.11   215527   \n",
              "10879                                           Gintama.   9.02    91695   \n",
              "12724                               Ginga Eiyuu Densetsu   9.11   124993   \n",
              "13230  Gintama Movie 2: Kanketsu-hen - Yorozuya yo Ei...   9.04   105458   \n",
              "14208                                       Hashire John   9.50       41   \n",
              "14317  Kuunyan no Koutsuu Anzen: Tadashii Jitensha no...  10.00       34   \n",
              "14403                            Dokidoki Little Ooyasan   9.52      357   \n",
              "14407                                         Ittekimasu  10.00       30   \n",
              "14454           Tat-chan - Momo-chan no Fushigina Taiken   9.50       35   \n",
              "14467               Kyouiku Eiga-sai Jushou Anime Series  10.00       30   \n",
              "\n",
              "       favorites  \n",
              "418        64375  \n",
              "548            0  \n",
              "1028       34912  \n",
              "1252        5668  \n",
              "1307        2257  \n",
              "2555      106895  \n",
              "2783       47380  \n",
              "2999       92423  \n",
              "3129           0  \n",
              "5783        1509  \n",
              "6177        1882  \n",
              "6553       33781  \n",
              "6572       19815  \n",
              "6615        2432  \n",
              "8992        4549  \n",
              "10879       1237  \n",
              "12724       8567  \n",
              "13230       1395  \n",
              "14208          0  \n",
              "14317          0  \n",
              "14403         21  \n",
              "14407          0  \n",
              "14454          0  \n",
              "14467          0  "
            ]
          },
          "execution_count": 29,
          "metadata": {},
          "output_type": "execute_result"
        }
      ],
      "source": [
        "df_stats[df_stats[\"score\"] > 9.0]"
      ]
    },
    {
      "cell_type": "markdown",
      "metadata": {
        "id": "reoFwP6RzZak"
      },
      "source": [
        "11. Ahora tu equipo desea analizar a la competencia. Para esto **entrega los 5 estudios de anime con mejor score promedio entre sus animes**."
      ]
    },
    {
      "cell_type": "code",
      "execution_count": 3,
      "metadata": {
        "id": "ZU3fiC7GzZDy"
      },
      "outputs": [
        {
          "data": {
            "text/plain": [
              "studio\n",
              "Odolttogi             7.870000\n",
              "B&amp;T               7.820000\n",
              "Fuji TV               7.730000\n",
              "Studio Rikka          7.688571\n",
              "D &amp; D Pictures    7.635000\n",
              "Name: score, dtype: float64"
            ]
          },
          "execution_count": 3,
          "metadata": {},
          "output_type": "execute_result"
        }
      ],
      "source": [
        "(pd.merge(df_anime, df_stats, on=\"title\").groupby('studio')['score'].mean()).nlargest(5)"
      ]
    },
    {
      "cell_type": "markdown",
      "metadata": {
        "id": "byjN8fByPYEt"
      },
      "source": [
        "12. Después de que te preguntaran por los animes que tienen mejor score, se te ocurre crear una columna que indique cuales animes son \"buenos\". Para esto, el área de producto te indica que un \"mal\" anime tiene score bajo 4.0, uno \"intermedio\" tiene score entre 4.0 y 8.0, y uno \"bueno\" tiene score sobre 8.0. **Usa el método apply para crear una nueva columna \"quality\" que tenga como valor \"Malo\", \"Intermedio\" o \"Bueno\" según la definición anterior. Luego, muestra los 5 primeros registros**"
      ]
    },
    {
      "cell_type": "code",
      "execution_count": 4,
      "metadata": {
        "id": "bqQZfSbbPYEt"
      },
      "outputs": [
        {
          "data": {
            "text/html": [
              "<div>\n",
              "<style scoped>\n",
              "    .dataframe tbody tr th:only-of-type {\n",
              "        vertical-align: middle;\n",
              "    }\n",
              "\n",
              "    .dataframe tbody tr th {\n",
              "        vertical-align: top;\n",
              "    }\n",
              "\n",
              "    .dataframe thead th {\n",
              "        text-align: right;\n",
              "    }\n",
              "</style>\n",
              "<table border=\"1\" class=\"dataframe\">\n",
              "  <thead>\n",
              "    <tr style=\"text-align: right;\">\n",
              "      <th></th>\n",
              "      <th>title</th>\n",
              "      <th>score</th>\n",
              "      <th>members</th>\n",
              "      <th>favorites</th>\n",
              "      <th>quality</th>\n",
              "    </tr>\n",
              "  </thead>\n",
              "  <tbody>\n",
              "    <tr>\n",
              "      <th>0</th>\n",
              "      <td>Inu x Boku SS</td>\n",
              "      <td>7.63</td>\n",
              "      <td>283882</td>\n",
              "      <td>2809</td>\n",
              "      <td>Intermedio</td>\n",
              "    </tr>\n",
              "    <tr>\n",
              "      <th>1</th>\n",
              "      <td>Seto no Hanayome</td>\n",
              "      <td>7.89</td>\n",
              "      <td>204003</td>\n",
              "      <td>2579</td>\n",
              "      <td>Intermedio</td>\n",
              "    </tr>\n",
              "    <tr>\n",
              "      <th>2</th>\n",
              "      <td>Shugo Chara!! Doki</td>\n",
              "      <td>7.55</td>\n",
              "      <td>70127</td>\n",
              "      <td>802</td>\n",
              "      <td>Intermedio</td>\n",
              "    </tr>\n",
              "    <tr>\n",
              "      <th>3</th>\n",
              "      <td>Princess Tutu</td>\n",
              "      <td>8.21</td>\n",
              "      <td>93312</td>\n",
              "      <td>3344</td>\n",
              "      <td>Bueno</td>\n",
              "    </tr>\n",
              "    <tr>\n",
              "      <th>4</th>\n",
              "      <td>Bakuman. 3rd Season</td>\n",
              "      <td>8.67</td>\n",
              "      <td>182765</td>\n",
              "      <td>2082</td>\n",
              "      <td>Bueno</td>\n",
              "    </tr>\n",
              "  </tbody>\n",
              "</table>\n",
              "</div>"
            ],
            "text/plain": [
              "                 title  score  members  favorites     quality\n",
              "0        Inu x Boku SS   7.63   283882       2809  Intermedio\n",
              "1     Seto no Hanayome   7.89   204003       2579  Intermedio\n",
              "2   Shugo Chara!! Doki   7.55    70127        802  Intermedio\n",
              "3        Princess Tutu   8.21    93312       3344       Bueno\n",
              "4  Bakuman. 3rd Season   8.67   182765       2082       Bueno"
            ]
          },
          "execution_count": 4,
          "metadata": {},
          "output_type": "execute_result"
        }
      ],
      "source": [
        "df_stats['quality'] = df_stats['score'].apply(lambda x: 'Malo' if x < 4.0 else 'Intermedio' if x <= 8.0 else 'Bueno')\n",
        "df_stats.head(5)"
      ]
    },
    {
      "cell_type": "markdown",
      "metadata": {
        "id": "Mq6A1U6jPYEt"
      },
      "source": [
        "13. Rodrigo, un miembro del equipo, te dice: \"Si deseamos que la gente nos tenga en sus favoritos, ¿qué tipo de anime deberíamos hacer? Para cada tipo de anime (TV, OVA, Movie, etc) podríamos sumar la cantidad de favoritos, y hacer el tipo de anime que tenga la suma más grande\". Sin embargo, tú te percatas de que **hay un problema con lo que él propone**. ¿Cuál es este problema?"
      ]
    },
    {
      "cell_type": "markdown",
      "metadata": {},
      "source": []
    },
    {
      "cell_type": "markdown",
      "metadata": {
        "id": "ZVxg6JBjPYEu"
      },
      "source": [
        "14. Para mostrarle a Rodrigo el problema con la solución que él propuso, **entrega la cantidad de animes por cada tipo**."
      ]
    },
    {
      "cell_type": "code",
      "execution_count": 5,
      "metadata": {
        "id": "Ery5eUccPYEv"
      },
      "outputs": [
        {
          "data": {
            "text/plain": [
              "type\n",
              "TV         4271\n",
              "OVA        3612\n",
              "Movie      2624\n",
              "Special    1948\n",
              "ONA        1144\n",
              "Music       849\n",
              "Unknown      30\n",
              "Name: count, dtype: int64"
            ]
          },
          "execution_count": 5,
          "metadata": {},
          "output_type": "execute_result"
        }
      ],
      "source": [
        "df_anime['type'].value_counts()"
      ]
    },
    {
      "cell_type": "markdown",
      "metadata": {
        "id": "n45zk1YVzYNx"
      },
      "source": [
        "15. Tu jefe te dice que tuvo una visión en un sueño, te dice que sabe como hacer el anime más famoso. Quiere hacer un anime de tipo OVA, donde la fuente (columna source) sea Novel. **Entrega las columnas title, members, favorites, y quality de todos los animes que cumplan con estas características**."
      ]
    },
    {
      "cell_type": "code",
      "execution_count": 6,
      "metadata": {
        "id": "sy1OmkRBzn0K"
      },
      "outputs": [
        {
          "data": {
            "text/html": [
              "<div>\n",
              "<style scoped>\n",
              "    .dataframe tbody tr th:only-of-type {\n",
              "        vertical-align: middle;\n",
              "    }\n",
              "\n",
              "    .dataframe tbody tr th {\n",
              "        vertical-align: top;\n",
              "    }\n",
              "\n",
              "    .dataframe thead th {\n",
              "        text-align: right;\n",
              "    }\n",
              "</style>\n",
              "<table border=\"1\" class=\"dataframe\">\n",
              "  <thead>\n",
              "    <tr style=\"text-align: right;\">\n",
              "      <th></th>\n",
              "      <th>title</th>\n",
              "      <th>members</th>\n",
              "      <th>favorites</th>\n",
              "      <th>quality</th>\n",
              "    </tr>\n",
              "  </thead>\n",
              "  <tbody>\n",
              "    <tr>\n",
              "      <th>57</th>\n",
              "      <td>Ane Koi: Suki Kirai Daisuki.</td>\n",
              "      <td>5600</td>\n",
              "      <td>37</td>\n",
              "      <td>Intermedio</td>\n",
              "    </tr>\n",
              "    <tr>\n",
              "      <th>59</th>\n",
              "      <td>Ginga Hyouryuu Vifam: Kieta 12-nin</td>\n",
              "      <td>285</td>\n",
              "      <td>0</td>\n",
              "      <td>Intermedio</td>\n",
              "    </tr>\n",
              "    <tr>\n",
              "      <th>60</th>\n",
              "      <td>Super Danganronpa 2.5: Komaeda Nagito to Sekai...</td>\n",
              "      <td>31844</td>\n",
              "      <td>276</td>\n",
              "      <td>Intermedio</td>\n",
              "    </tr>\n",
              "    <tr>\n",
              "      <th>61</th>\n",
              "      <td>Chuuhai Lemon: Love 30s - Ame ni Nurete mo</td>\n",
              "      <td>165</td>\n",
              "      <td>0</td>\n",
              "      <td>Intermedio</td>\n",
              "    </tr>\n",
              "    <tr>\n",
              "      <th>63</th>\n",
              "      <td>Diabolik Lovers OVA</td>\n",
              "      <td>19268</td>\n",
              "      <td>64</td>\n",
              "      <td>Intermedio</td>\n",
              "    </tr>\n",
              "    <tr>\n",
              "      <th>...</th>\n",
              "      <td>...</td>\n",
              "      <td>...</td>\n",
              "      <td>...</td>\n",
              "      <td>...</td>\n",
              "    </tr>\n",
              "    <tr>\n",
              "      <th>14472</th>\n",
              "      <td>Mushi Mushi Mura no Nakama-tachi: Minna Ii Tok...</td>\n",
              "      <td>40</td>\n",
              "      <td>0</td>\n",
              "      <td>Intermedio</td>\n",
              "    </tr>\n",
              "    <tr>\n",
              "      <th>14473</th>\n",
              "      <td>Kogitsune no Shouboutai</td>\n",
              "      <td>62</td>\n",
              "      <td>0</td>\n",
              "      <td>Intermedio</td>\n",
              "    </tr>\n",
              "    <tr>\n",
              "      <th>14474</th>\n",
              "      <td>Minna no Taabou Konnichiwa</td>\n",
              "      <td>40</td>\n",
              "      <td>0</td>\n",
              "      <td>Intermedio</td>\n",
              "    </tr>\n",
              "    <tr>\n",
              "      <th>14476</th>\n",
              "      <td>Geba Geba Shou Time!</td>\n",
              "      <td>90</td>\n",
              "      <td>0</td>\n",
              "      <td>Intermedio</td>\n",
              "    </tr>\n",
              "    <tr>\n",
              "      <th>14478</th>\n",
              "      <td>Nippon Mukashibanashi: Sannen Netarou</td>\n",
              "      <td>32</td>\n",
              "      <td>0</td>\n",
              "      <td>Intermedio</td>\n",
              "    </tr>\n",
              "  </tbody>\n",
              "</table>\n",
              "<p>3613 rows × 4 columns</p>\n",
              "</div>"
            ],
            "text/plain": [
              "                                                   title  members  favorites  \\\n",
              "57                          Ane Koi: Suki Kirai Daisuki.     5600         37   \n",
              "59                    Ginga Hyouryuu Vifam: Kieta 12-nin      285          0   \n",
              "60     Super Danganronpa 2.5: Komaeda Nagito to Sekai...    31844        276   \n",
              "61            Chuuhai Lemon: Love 30s - Ame ni Nurete mo      165          0   \n",
              "63                                   Diabolik Lovers OVA    19268         64   \n",
              "...                                                  ...      ...        ...   \n",
              "14472  Mushi Mushi Mura no Nakama-tachi: Minna Ii Tok...       40          0   \n",
              "14473                            Kogitsune no Shouboutai       62          0   \n",
              "14474                         Minna no Taabou Konnichiwa       40          0   \n",
              "14476                               Geba Geba Shou Time!       90          0   \n",
              "14478              Nippon Mukashibanashi: Sannen Netarou       32          0   \n",
              "\n",
              "          quality  \n",
              "57     Intermedio  \n",
              "59     Intermedio  \n",
              "60     Intermedio  \n",
              "61     Intermedio  \n",
              "63     Intermedio  \n",
              "...           ...  \n",
              "14472  Intermedio  \n",
              "14473  Intermedio  \n",
              "14474  Intermedio  \n",
              "14476  Intermedio  \n",
              "14478  Intermedio  \n",
              "\n",
              "[3613 rows x 4 columns]"
            ]
          },
          "execution_count": 6,
          "metadata": {},
          "output_type": "execute_result"
        }
      ],
      "source": [
        "df_merge = pd.merge(df_anime, df_stats, on='title')\n",
        "df_jefe = df_merge[df_merge['type'] == 'OVA'][['title','members', 'favorites', 'quality']]\n",
        "df_jefe"
      ]
    },
    {
      "cell_type": "markdown",
      "metadata": {
        "id": "H-QaCsPzPYEw"
      },
      "source": [
        "16. Para verificar si tu jefe tiene sueños extraños, o si realmente tiene una visión, **calcula y muestra el promedio de los miembros, el promedio de los favoritos, y la categoría de quality más repetida** de los animes obtenidos en la pregunta anterior."
      ]
    },
    {
      "cell_type": "code",
      "execution_count": 7,
      "metadata": {
        "id": "PeAuASNSPYEx"
      },
      "outputs": [
        {
          "data": {
            "text/plain": [
              "(7560.738721284251,\n",
              " 40.216994187655686,\n",
              " 0    Intermedio\n",
              " Name: quality, dtype: object)"
            ]
          },
          "execution_count": 7,
          "metadata": {},
          "output_type": "execute_result"
        }
      ],
      "source": [
        "df_jefe['members'].mean(), df_jefe['favorites'].mean(), df_jefe['quality'].mode()"
      ]
    },
    {
      "cell_type": "markdown",
      "metadata": {
        "id": "xkbw4vcNRKEg"
      },
      "source": [
        "# Visualicemos los datos"
      ]
    },
    {
      "cell_type": "markdown",
      "metadata": {
        "id": "SUdmMgMYRUhi"
      },
      "source": [
        "17. Muestre el histograma de todas las puntuaciones de animes"
      ]
    },
    {
      "cell_type": "code",
      "execution_count": 8,
      "metadata": {
        "id": "TgB3MS58SU7r"
      },
      "outputs": [
        {
          "data": {
            "image/png": "[encoded data removed]",
            "text/plain": [
              "<Figure size 640x480 with 1 Axes>"
            ]
          },
          "metadata": {},
          "output_type": "display_data"
        }
      ],
      "source": [
        "hist = df_stats['score'].hist(bins = 10)\n",
        "\n",
        "plt.title('Puntuaciones anime')\n",
        "plt.xlabel('Score')\n",
        "\n",
        "plt.show()\n"
      ]
    },
    {
      "cell_type": "markdown",
      "metadata": {
        "id": "tVDvUZK1SUi2"
      },
      "source": [
        "18. Muestre la densidad de puntajes para los principales tipos de anime (TV, OVA, Movie)"
      ]
    },
    {
      "cell_type": "code",
      "execution_count": null,
      "metadata": {
        "id": "MSm5_YoWToLA"
      },
      "outputs": [],
      "source": []
    },
    {
      "cell_type": "markdown",
      "metadata": {
        "id": "CcwK9kniTo_r"
      },
      "source": [
        "19. ¿Cuál tipo de anime es más exitoso? ¿Se está tomando en cuenta la cantidad de animes por tipo al afirmar eso?"
      ]
    },
    {
      "cell_type": "markdown",
      "metadata": {
        "id": "zjyA38rqVBC0"
      },
      "source": [
        "R:"
      ]
    },
    {
      "cell_type": "markdown",
      "metadata": {
        "id": "0AcGLVkczvU1"
      },
      "source": [
        "Y eso es todo por hoy :)\n"
      ]
    },
    {
      "cell_type": "markdown",
      "metadata": {
        "id": "rR_plUgOz2kN"
      },
      "source": [
        "![](https://i.imgur.com/ghKLs78.jpeg)"
      ]
    }
  ],
  "metadata": {
    "colab": {
      "provenance": []
    },
    "kernelspec": {
      "display_name": "Python 3",
      "language": "python",
      "name": "python3"
    },
    "language_info": {
      "codemirror_mode": {
        "name": "ipython",
        "version": 3
      },
      "file_extension": ".py",
      "mimetype": "text/x-python",
      "name": "python",
      "nbconvert_exporter": "python",
      "pygments_lexer": "ipython3",
      "version": "3.12.2"
    }
  },
  "nbformat": 4,
  "nbformat_minor": 0
}
